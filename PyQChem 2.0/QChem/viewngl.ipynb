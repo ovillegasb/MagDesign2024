{
 "cells": [
  {
   "cell_type": "code",
   "execution_count": 1,
   "id": "d02ecd28-6b4d-4cfa-ac56-60de4798cb0e",
   "metadata": {},
   "outputs": [
    {
     "data": {
      "application/vnd.jupyter.widget-view+json": {
       "model_id": "ae570916d82c41cea37beaed61caf93f",
       "version_major": 2,
       "version_minor": 0
      },
      "text/plain": []
     },
     "metadata": {},
     "output_type": "display_data"
    },
    {
     "data": {
      "application/vnd.jupyter.widget-view+json": {
       "model_id": "cff8ddd520204b79ad8d2755e34adc67",
       "version_major": 2,
       "version_minor": 0
      },
      "text/plain": [
       "HBox(children=(NGLWidget(), VBox(children=(Dropdown(description='Show', options=('All', 'Ca', 'O', 'C'), value…"
      ]
     },
     "execution_count": 1,
     "metadata": {},
     "output_type": "execute_result"
    }
   ],
   "source": [
    "\"\"\"this a jupyter notebook to produce an enhanced visualization output for the app\"\"\"\n",
    "import os\n",
    "from ase.io import read,write\n",
    "from ase.visualize import view\n",
    "os.chdir(os.getcwd())\n",
    "x=read('test.cif')\n",
    "view(x,viewer='ngl')"
   ]
  },
  {
   "cell_type": "code",
   "execution_count": null,
   "id": "b24941df-1699-4cc7-b7da-13bd0b3b8b0a",
   "metadata": {},
   "outputs": [],
   "source": []
  }
 ],
 "metadata": {
  "kernelspec": {
   "display_name": "Python 3 (ipykernel)",
   "language": "python",
   "name": "python3"
  },
  "language_info": {
   "codemirror_mode": {
    "name": "ipython",
    "version": 3
   },
   "file_extension": ".py",
   "mimetype": "text/x-python",
   "name": "python",
   "nbconvert_exporter": "python",
   "pygments_lexer": "ipython3",
   "version": "3.8.18"
  }
 },
 "nbformat": 4,
 "nbformat_minor": 5
}
