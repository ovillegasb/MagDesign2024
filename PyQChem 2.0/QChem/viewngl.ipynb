{
 "cells": [
  {
   "cell_type": "code",
   "execution_count": 1,
   "id": "d02ecd28-6b4d-4cfa-ac56-60de4798cb0e",
   "metadata": {},
   "outputs": [
    {
     "data": {
      "application/vnd.jupyter.widget-view+json": {
       "model_id": "ae570916d82c41cea37beaed61caf93f",
       "version_major": 2,
       "version_minor": 0
      },
      "text/plain": []
     },
     "metadata": {},
     "output_type": "display_data"
    },
    {
     "data": {
      "application/vnd.jupyter.widget-view+json": {
       "model_id": "cff8ddd520204b79ad8d2755e34adc67",
       "version_major": 2,
       "version_minor": 0
      },
      "text/plain": [
       "HBox(children=(NGLWidget(), VBox(children=(Dropdown(description='Show', options=('All', 'Ca', 'O', 'C'), value…"
      ]
     },
     "execution_count": 1,
     "metadata": {},
     "output_type": "execute_result"
    }
   ],
   "source": [
    "\"\"\"this a jupyter notebook to produce an enhanced visualization output for the app\"\"\"\n",
    "#import os\n",
    "#from ase.io import read,write\n",
    "#from ase.visualize import view\n",
    "#os.chdir(os.getcwd())\n",
    "#x=read('test.vasp')\n",
    "#view(x,viewer='ngl')"
   ]
  },
  {
   "cell_type": "code",
   "execution_count": null,
   "id": "b24941df-1699-4cc7-b7da-13bd0b3b8b0a",
   "metadata": {},
   "outputs": [],
   "source": [
    "from ase.io import read\n",
    "from ase.atoms import Atoms\n",
    "from ase.visualize import view\n",
    "import os\n",
    "from tkinter import *\n",
    "import os\n",
    "from ase.io import read,write\n",
    "from ase.visualize import view\n",
    "import nglview as nv\n",
    "from time import sleep\n",
    "from ipywidgets import interact\n",
    "from IPython.display import display\n",
    "import numpy as np\n",
    "def view_structure(atoms, snapshot=-1, spacefill=True, show_cell=True):    \n",
    "        picture = nv.show_ase(atoms)\n",
    "        picture.add_unitcell()\n",
    "        return picture\n",
    "def cartesian(a,b,c):\n",
    "    aa=list(i for i in range(a))\n",
    "    bb=list(i for i in range(b)) \n",
    "    cc=list(i for i in range(c)) \n",
    "    product=[]\n",
    "    for i in range(len(aa)):\n",
    "        for j in range(len(bb)):\n",
    "            for k in range(len(cc)):\n",
    "                product.append(str(aa[i])+str(bb[j])+str(cc[k]))\n",
    "    del(product[0])\n",
    "    return product\n",
    "os.chdir(os.getcwd())\n",
    "f=read('test.vasp')\n",
    "import ipywidgets as widgets\n",
    "w1=widgets.IntSlider(value=1,min=1,max=3,step=1,description='M',disabled=False,continuous_update=False,orientation='horizontal',readout=True)\n",
    "w2=widgets.IntSlider(value=1,min=1,max=3,step=1,description='N',disabled=False,continuous_update=False,orientation='horizontal',readout=True)\n",
    "w3=widgets.IntSlider(value=1,min=1,max=3,step=1,description='P',disabled=False,continuous_update=False,orientation='horizontal',readout=True)\n",
    "items = [w1,w2,w3]\n",
    "#widgets.GridBox(items, layout=widgets.Layout(grid_template_columns=\"repeat(3, 100px)\"))\n",
    "w=widgets.HBox(items)\n",
    "def multiple(a,b,c):    \n",
    "    x=f.get_positions()\n",
    "    n=a*b*c\n",
    "    cell=f.get_cell()\n",
    "    try:\n",
    "        product=cartesian(a,b,c)\n",
    "    except:\n",
    "        return\n",
    "    for k in range(n-1):\n",
    "        y=f.get_positions()\n",
    "        for i in range(y.shape[0]):\n",
    "            for j in range(3):\n",
    "                y[i][j]=y[i][j]+int(product[k][0])*cell[0][j]+int(product[k][1])*cell[1][j]+int(product[k][2])*cell[2][j]\n",
    "        x=np.concatenate((x,y), axis=0)\n",
    "    view=view_structure(Atoms(symbols=f.get_chemical_symbols()*n,cell=cell,positions=x))\n",
    "    view.add_ball_and_stick()    \n",
    "    view.parameters = {\"sele\": \"all\",\"ballAndStick\": {\"multipleBond\": \"symmetric\", \"forceBonds\": True}}\n",
    "    display(view)\n",
    "    #display(view(Atoms(symbols=f.get_chemical_symbols()*n,cell=cell,positions=x),viewer='ngl'))\n",
    "    #y.add_unitcell()\n",
    "    #display(widgets.HBox([y]))\n",
    "\n",
    "#view(multiple(f,2,1,2))\n",
    "#y=nv.show_ase(x)\n",
    "display(widgets.HTML(value=\"<h1>Simple structure visualization:</h1>\"))\n",
    "display(widgets.HTML(value=\"<p>here the structure can be viewed as singular entity with no duplications<br><b>P.S:</b> if the visual disappears just refresh the page</p>\"))\n",
    "display(view(f,viewer='ngl'))\n",
    "display(widgets.HTML(value=\"<h1>Structure duplication with bonds:</h1>\"))\n",
    "display(widgets.HTML(value=\"<p>here we can duplicate the structure to create a cluster with dimensions MxNxP<br><b>P.S:</b> sometimes when there are too many atoms the bonds disappear so to view bonds in 3x3x3 it's better to have a maximum of 24 atoms and as of 2x2x2 the best is 81 atoms</p>\"))\n",
    "interact(multiple,a=w1,b=w2,c=w3)\n"
   ]
  }
 ],
 "metadata": {
  "kernelspec": {
   "display_name": "Python 3 (ipykernel)",
   "language": "python",
   "name": "python3"
  },
  "language_info": {
   "codemirror_mode": {
    "name": "ipython",
    "version": 3
   },
   "file_extension": ".py",
   "mimetype": "text/x-python",
   "name": "python",
   "nbconvert_exporter": "python",
   "pygments_lexer": "ipython3",
   "version": "3.8.18"
  }
 },
 "nbformat": 4,
 "nbformat_minor": 5
}
